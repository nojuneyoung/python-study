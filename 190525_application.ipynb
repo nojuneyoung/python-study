{
 "cells": [
  {
   "cell_type": "code",
   "execution_count": 6,
   "metadata": {},
   "outputs": [
    {
     "name": "stdout",
     "output_type": "stream",
     "text": [
      "120\n"
     ]
    }
   ],
   "source": [
    "def factorial(n):\n",
    "    if n == 0:\n",
    "        return 1\n",
    "    else:\n",
    "        return n * factorial(n-1)\n",
    "print(factorial(5))\n"
   ]
  },
  {
   "cell_type": "code",
   "execution_count": 8,
   "metadata": {},
   "outputs": [
    {
     "data": {
      "text/plain": [
       "'\\n팩토리얼 (n)은\\nn*(n-1)*(n-2)*(n-3)*...* 3 * 2 * 1 이런 식으로 n에서 1까지의 모든 수를 곱하게 하는 함수이다.\\n팩토리얼(n)  =  n * 팩토리얼(n-1)  =  n * (n-1) * 팩토리얼(n-2) =...=...=...=...= n*(n-1)*(n-2)*...*3*2*1\\n\\n그니까 factorial(n) = n*(n-1)*(n-2)*(n-3)*....*3*2*1 이다!!\\n'"
      ]
     },
     "execution_count": 8,
     "metadata": {},
     "output_type": "execute_result"
    }
   ],
   "source": [
    "'''\n",
    "팩토리얼 (n)은\n",
    "n*(n-1)*(n-2)*(n-3)*...* 3 * 2 * 1 이런 식으로 n에서 1까지의 모든 수를 곱하게 하는 함수이다.\n",
    "팩토리얼(n)  =  n * 팩토리얼(n-1)  =  n * (n-1) * 팩토리얼(n-2) =...=...=...=...= n*(n-1)*(n-2)*...*3*2*1\n",
    "\n",
    "그니까 factorial(n) = n*(n-1)*(n-2)*(n-3)*....*3*2*1 이다!!\n",
    "'''"
   ]
  },
  {
   "cell_type": "markdown",
   "metadata": {},
   "source": [
    "**중앙값 구하는 단계**"
   ]
  },
  {
   "cell_type": "code",
   "execution_count": 3,
   "metadata": {},
   "outputs": [],
   "source": [
    "def getMedian(v):\n",
    "    print(v)\n",
    "    v.sort()\n",
    "    print('v.sort():',v)\n",
    "    \n",
    "    vLength = len(v)\n",
    "    print(\"vLength len(v) : \", \"vLength\")\n",
    "    if (vLength == 0): \n",
    "        return 0\n",
    "    \n",
    "    print('vLength / 2 : ', type(vLength/2))\n",
    "    vCenter = int(vLength / 2)\n",
    "    print('int(vLength / 2) : ', type(int(vLength/2)) )\n",
    "    \n",
    "    \n",
    "    if (vLength % 2 == 1):\n",
    "        return v[vCenter]\n",
    "    else:\n",
    "        return (v[vCenter - 1] + v[vCenter]) / 2.0 \n"
   ]
  },
  {
   "cell_type": "code",
   "execution_count": 9,
   "metadata": {},
   "outputs": [
    {
     "name": "stdout",
     "output_type": "stream",
     "text": [
      "[1, 8, 3, 23, 6, 8]\n",
      "v.sort(): [1, 3, 6, 8, 8, 23]\n",
      "vLength len(v) :  vLength\n",
      "vLength / 2 :  <class 'float'>\n",
      "int(vLength / 2) :  <class 'int'>\n",
      "7.0\n"
     ]
    }
   ],
   "source": [
    "print(getMedian([1,8,3,23,6,8]))\n"
   ]
  },
  {
   "cell_type": "code",
   "execution_count": null,
   "metadata": {},
   "outputs": [],
   "source": [
    "def getMedian(v):\n",
    "    v.sort()\n",
    "    vLength = len(v)\n",
    "    if (vLength == 0): \n",
    "        return 0\n",
    "    vCenter = int(vLength / 2)\n",
    "    if (vLength % 2 == 1):\n",
    "        return v[vCenter]\n",
    "    else:\n",
    "        return (v[vCenter - 1] + v[vCenter]) / 2.0 "
   ]
  }
 ],
 "metadata": {
  "kernelspec": {
   "display_name": "Python 3",
   "language": "python",
   "name": "python3"
  },
  "language_info": {
   "codemirror_mode": {
    "name": "ipython",
    "version": 3
   },
   "file_extension": ".py",
   "mimetype": "text/x-python",
   "name": "python",
   "nbconvert_exporter": "python",
   "pygments_lexer": "ipython3",
   "version": "3.7.1"
  }
 },
 "nbformat": 4,
 "nbformat_minor": 2
}
