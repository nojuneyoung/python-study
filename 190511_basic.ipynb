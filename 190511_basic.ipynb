{
 "cells": [
  {
   "cell_type": "markdown",
   "metadata": {},
   "source": [
    "##최댓값,최솟값 ,짝홀 여부,팩토리얼 구하는 함수 만들기\n"
   ]
  },
  {
   "cell_type": "code",
   "execution_count": 14,
   "metadata": {},
   "outputs": [
    {
     "data": {
      "text/plain": [
       "'\\n1. 사용자 정의 함수 개발\\n2. 로직\\n    - 최댓값\\n        :데이터 두개를 받아서 두개 비교후 더 큰수 반환\\n    - 최솟값\\n        : 데이터 두개를 받아서 비교후 더 작은수 반환\\n    - 짝수? 홀수? 구하기\\n        : 짝수인 경우 \"짝수\",홀수인 경우 \"홀수\" 반환 \\n    - 팩토리얼\\n        :하나의 숫자를 받아서 팩토리얼 로직에 맞게 연산후 반환\\n        :1부터 어떤 양의 정수 n 까지의 정수를 모두 곱한 것\\n\\n3. 총 3개의 함수명\\n    1.최댓값 : max()\\n    2.최솟값 : min()\\n    3.짝홀: evenOdd()\\n    3.팩토리얼 : factorial\\n'"
      ]
     },
     "execution_count": 14,
     "metadata": {},
     "output_type": "execute_result"
    }
   ],
   "source": [
    "'''\n",
    "1. 사용자 정의 함수 개발\n",
    "2. 로직\n",
    "    - 최댓값\n",
    "        :데이터 두개를 받아서 두개 비교후 더 큰수 반환\n",
    "    - 최솟값\n",
    "        : 데이터 두개를 받아서 비교후 더 작은수 반환\n",
    "    - 짝수? 홀수? 구하기\n",
    "        : 짝수인 경우 \"짝수\",홀수인 경우 \"홀수\" 반환 \n",
    "    - 팩토리얼\n",
    "        :하나의 숫자를 받아서 팩토리얼 로직에 맞게 연산후 반환\n",
    "        :1부터 어떤 양의 정수 n 까지의 정수를 모두 곱한 것\n",
    "\n",
    "3. 총 3개의 함수명\n",
    "    1.최댓값 : max()\n",
    "    2.최솟값 : min()\n",
    "    3.짝홀: evenOdd()\n",
    "    3.팩토리얼 : factorial\n",
    "'''\n"
   ]
  },
  {
   "cell_type": "code",
   "execution_count": 10,
   "metadata": {},
   "outputs": [
    {
     "data": {
      "text/plain": [
       "30"
      ]
     },
     "execution_count": 10,
     "metadata": {},
     "output_type": "execute_result"
    }
   ],
   "source": [
    "#사요앚 정의 함수 문법\n",
    "def max(v1, v2):\n",
    "    if v1 >= v2:\n",
    "        return v1\n",
    "    else: return v2\n",
    "\n",
    "# 호출\n",
    "max(10,30)"
   ]
  },
  {
   "cell_type": "code",
   "execution_count": 13,
   "metadata": {},
   "outputs": [
    {
     "data": {
      "text/plain": [
       "10"
      ]
     },
     "execution_count": 13,
     "metadata": {},
     "output_type": "execute_result"
    }
   ],
   "source": [
    "def min(v1, v2):\n",
    "    if v1 <= v2:\n",
    "        return v1\n",
    "    else: \n",
    "        return v2\n",
    "min(10,30)"
   ]
  },
  {
   "cell_type": "code",
   "execution_count": 20,
   "metadata": {},
   "outputs": [
    {
     "data": {
      "text/plain": [
       "'홀수'"
      ]
     },
     "execution_count": 20,
     "metadata": {},
     "output_type": "execute_result"
    }
   ],
   "source": [
    "def evenOdd(v1):\n",
    "    if v1%2==0:\n",
    "        return'짝수'\n",
    "    else: \n",
    "        return'홀수'\n",
    "evenOdd(9)"
   ]
  },
  {
   "cell_type": "code",
   "execution_count": null,
   "metadata": {},
   "outputs": [],
   "source": []
  },
  {
   "cell_type": "code",
   "execution_count": null,
   "metadata": {},
   "outputs": [],
   "source": []
  },
  {
   "cell_type": "code",
   "execution_count": null,
   "metadata": {},
   "outputs": [],
   "source": []
  },
  {
   "cell_type": "code",
   "execution_count": null,
   "metadata": {},
   "outputs": [],
   "source": []
  },
  {
   "cell_type": "code",
   "execution_count": null,
   "metadata": {},
   "outputs": [],
   "source": []
  }
 ],
 "metadata": {
  "kernelspec": {
   "display_name": "Python 3",
   "language": "python",
   "name": "python3"
  },
  "language_info": {
   "codemirror_mode": {
    "name": "ipython",
    "version": 3
   },
   "file_extension": ".py",
   "mimetype": "text/x-python",
   "name": "python",
   "nbconvert_exporter": "python",
   "pygments_lexer": "ipython3",
   "version": "3.7.1"
  }
 },
 "nbformat": 4,
 "nbformat_minor": 2
}
