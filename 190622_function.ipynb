{
 "cells": [
  {
   "cell_type": "markdown",
   "metadata": {},
   "source": [
    "## 함수 구현 및 호출과 markdown 문서 작업 연습"
   ]
  },
  {
   "cell_type": "markdown",
   "metadata": {},
   "source": [
    "```\n",
    "노상윤\n",
    "* 표현식\n",
    "1. 따옴표 3개\n",
    "python 언어의 여러 라인 표현\n",
    "다중 라인 문자열 표현하는 주석\n",
    "\n",
    "2. markdown 표기 \n",
    "    -모든 언어의 문서화 작업시 사용되는 표기법\n",
    "    -다양한 표기법\n",
    "        1. #\n",
    "        2. ` : 백틱이라 발음\n",
    "        3. 숫자\n",
    "        4. -\n",
    "        5. [x]문구\n",
    "```"
   ]
  },
  {
   "cell_type": "code",
   "execution_count": 26,
   "metadata": {},
   "outputs": [
    {
     "data": {
      "text/plain": [
       "'\\n1. 사용자 정의 함수 구현 문법\\n- 사용자 정의 : python\\n\\n함수 구현 문법\\ndef 함수명(argument1,argument2,...]):\\n    로직\\n    return 값\\n\\n'"
      ]
     },
     "execution_count": 26,
     "metadata": {},
     "output_type": "execute_result"
    }
   ],
   "source": [
    "# 함수 구현- 두개의 숫자를 받아서 합을 구한후 호출한 곳으로 리턴하기\n",
    "'''\n",
    "1. 사용자 정의 함수 구현 문법\n",
    "- 사용자 정의 : python\n",
    "\n",
    "함수 구현 문법\n",
    "def 함수명(argument1,argument2,...]):\n",
    "    로직\n",
    "    return 값\n",
    "\n",
    "'''"
   ]
  },
  {
   "cell_type": "code",
   "execution_count": 27,
   "metadata": {},
   "outputs": [
    {
     "name": "stdout",
     "output_type": "stream",
     "text": [
      "30\n"
     ]
    }
   ],
   "source": [
    "# 함수 호출\n",
    "def sum(v1,v2):\n",
    "    return(v1+v2)\n",
    "data=sum(10,20)\n",
    "print(data)"
   ]
  },
  {
   "cell_type": "code",
   "execution_count": 28,
   "metadata": {},
   "outputs": [
    {
     "name": "stdout",
     "output_type": "stream",
     "text": [
      "60\n"
     ]
    }
   ],
   "source": [
    "def sum2(v1,v2,v3):\n",
    "    return(v1+v2+v3)\n",
    "data=sum2(10,20,30)\n",
    "print(data)"
   ]
  },
  {
   "cell_type": "code",
   "execution_count": 29,
   "metadata": {},
   "outputs": [
    {
     "name": "stdout",
     "output_type": "stream",
     "text": [
      "고수\n",
      "잔인자\n",
      "흐음\n"
     ]
    }
   ],
   "source": [
    "def checkData(v):\n",
    "    if v == \"선생님\":\n",
    "        print(\"잔인자\")\n",
    "    elif v==\"학생\":\n",
    "        print(\"고수\")\n",
    "    else:\n",
    "        print(\"흐음\")\n",
    "checkData(\"학생\")\n",
    "checkData(\"선생님\")\n",
    "checkData(\"ㅁㄴㅇㄹ\")"
   ]
  },
  {
   "cell_type": "code",
   "execution_count": 30,
   "metadata": {},
   "outputs": [
    {
     "name": "stdout",
     "output_type": "stream",
     "text": [
      "range(1, 5)\n"
     ]
    }
   ],
   "source": [
    "'''\n",
    "2. python 자체가 제공하는 내장 함수 활용\n",
    "\n",
    "'''\n",
    "#2-1. 연속된 수를 표현하는 함수:range()\n",
    "v=range(1,5)\n",
    "print(v)"
   ]
  },
  {
   "cell_type": "code",
   "execution_count": 31,
   "metadata": {},
   "outputs": [
    {
     "name": "stdout",
     "output_type": "stream",
     "text": [
      "1\n",
      "2\n",
      "3\n",
      "4\n"
     ]
    }
   ],
   "source": [
    "for i in v:\n",
    "    print(i)"
   ]
  },
  {
   "cell_type": "code",
   "execution_count": 32,
   "metadata": {},
   "outputs": [
    {
     "data": {
      "text/plain": [
       "['붕어', '궁예', '총몇명', '게임']"
      ]
     },
     "execution_count": 32,
     "metadata": {},
     "output_type": "execute_result"
    }
   ],
   "source": [
    "#데이터를 출력시에 index(숫자로 표현하는 순서)가 적용되서\n",
    "#순서에 맞는 숫자값도 출력\n",
    "list = ['붕어', '궁예', '총몇명',\"게임\" ]\n",
    "list\n"
   ]
  },
  {
   "cell_type": "code",
   "execution_count": 40,
   "metadata": {},
   "outputs": [
    {
     "data": {
      "text/plain": [
       "<enumerate at 0x26aec47bb40>"
      ]
     },
     "execution_count": 40,
     "metadata": {},
     "output_type": "execute_result"
    }
   ],
   "source": [
    "v=enumerate(list)\n",
    "v"
   ]
  },
  {
   "cell_type": "code",
   "execution_count": 35,
   "metadata": {},
   "outputs": [
    {
     "name": "stdout",
     "output_type": "stream",
     "text": [
      "0 붕어\n",
      "1 궁예\n",
      "2 총몇명\n",
      "3 게임\n"
     ]
    }
   ],
   "source": [
    "for index, value in v:\n",
    "    print(index,value)"
   ]
  },
  {
   "cell_type": "code",
   "execution_count": 36,
   "metadata": {},
   "outputs": [
    {
     "data": {
      "text/plain": [
       "'\\nrange()와 enumerate() 함수를 조합해서 데이터는 자유롭게 작업 후에 결과값 출력하기\\n\\n'"
      ]
     },
     "execution_count": 36,
     "metadata": {},
     "output_type": "execute_result"
    }
   ],
   "source": [
    "'''\n",
    "range()와 enumerate() 함수를 조합해서 데이터는 자유롭게 작업 후에 결과값 출력하기\n",
    "\n",
    "'''"
   ]
  },
  {
   "cell_type": "code",
   "execution_count": 47,
   "metadata": {},
   "outputs": [
    {
     "name": "stdout",
     "output_type": "stream",
     "text": [
      "0 1\n",
      "1 2\n",
      "2 3\n",
      "3 4\n",
      "4 5\n",
      "5 6\n",
      "6 7\n",
      "7 8\n",
      "8 9\n",
      "9 10\n"
     ]
    }
   ],
   "source": [
    "data=range(1,11)\n",
    "data2=enumerate(data)\n",
    "for index, value in data2:\n",
    "    print(index,value)"
   ]
  }
 ],
 "metadata": {
  "kernelspec": {
   "display_name": "Python 3",
   "language": "python",
   "name": "python3"
  },
  "language_info": {
   "codemirror_mode": {
    "name": "ipython",
    "version": 3
   },
   "file_extension": ".py",
   "mimetype": "text/x-python",
   "name": "python",
   "nbconvert_exporter": "python",
   "pygments_lexer": "ipython3",
   "version": "3.7.1"
  }
 },
 "nbformat": 4,
 "nbformat_minor": 2
}
