{
 "cells": [
  {
   "cell_type": "code",
   "execution_count": null,
   "metadata": {},
   "outputs": [],
   "source": []
  },
  {
   "cell_type": "code",
   "execution_count": 1,
   "metadata": {},
   "outputs": [
    {
     "name": "stdout",
     "output_type": "stream",
     "text": [
      "['스무디','게임','과학','노준영놀리기'] It`s happy\n",
      "['놀리기','때리기','수학','게임트롤'] Don`t do that\n",
      "['억울'] It`s sad\n"
     ]
    }
   ],
   "source": [
    "emotionList={\"happy\":\"['스무디','게임','과학','노준영놀리기']\" , \"angry\":\"['놀리기','때리기','수학','게임트롤']\",\"sad\":\"['억울']\"}\n",
    "for x in emotionList:\n",
    "    if x == \"angry\":\n",
    "        print(emotionList.get(x)+\" Don`t do that\")\n",
    "    elif x == \"happy\":\n",
    "        print(emotionList.get(x)+\" It`s happy\")\n",
    "    elif x == \"sad\":\n",
    "        print(emotionList.get(x)+\" It`s sad\")"
   ]
  },
  {
   "cell_type": "code",
   "execution_count": 2,
   "metadata": {},
   "outputs": [],
   "source": [
    "def total(order):\n",
    "    a = '0'\n",
    "    int(a)\n",
    "    for a in order:\n",
    "        if \"떡볶이\" in order:\n",
    "            a = 0 + 3000 \n",
    "        else:\n",
    "            a = 0\n",
    "    b = 0\n",
    "    int(b)\n",
    "    for b in order:\n",
    "        if \"순대\" in order:\n",
    "            b = 0 + 2500 \n",
    "        else: \n",
    "            b = 0\n",
    "    c = 0\n",
    "    int(c)\n",
    "    for c in order:\n",
    "        if \"오뎅\" in order:\n",
    "            c = 0 + 500\n",
    "        else:\n",
    "            c = 0\n",
    "    d = 0\n",
    "    int(d)\n",
    "    for d in order:\n",
    "        if \"주먹밥\" in order:\n",
    "            d = 0 + 4000\n",
    "        else:\n",
    "            d = 0\n",
    "    e = 0\n",
    "    int(e)\n",
    "    for e in order:\n",
    "        if \"음료수\" in order:\n",
    "            e = 0 + 1000 \n",
    "        else:\n",
    "            e = 0\n",
    "    f = 0\n",
    "    int(f)\n",
    "    for f in order:\n",
    "        if \"튀김\" in order:\n",
    "            f = 0 + 2000 \n",
    "        else:\n",
    "            f = 0\n",
    "    g = 0\n",
    "    int(g)\n",
    "    for g in order:\n",
    "        if \"꼬치\" in order:\n",
    "            g = 0 + 1000 \n",
    "        else:\n",
    "            g = 0\n",
    "    total = a + b + c + d + e + f + g\n",
    "\n",
    "    print(total)"
   ]
  },
  {
   "cell_type": "code",
   "execution_count": 4,
   "metadata": {},
   "outputs": [
    {
     "name": "stdout",
     "output_type": "stream",
     "text": [
      "1000\n"
     ]
    }
   ],
   "source": [
    "order1 = {'음료수'}\n",
    "total(order1)\n"
   ]
  },
  {
   "cell_type": "code",
   "execution_count": 30,
   "metadata": {},
   "outputs": [
    {
     "name": "stdout",
     "output_type": "stream",
     "text": [
      "1000 원입니다.\n"
     ]
    }
   ],
   "source": [
    "order2=['음료수']\n",
    "def Total(v):\n",
    "    total=0\n",
    "    for x in v:\n",
    "        if x == '떡볶이':\n",
    "            total=total+3000\n",
    "        elif x == '튀김':\n",
    "            total=total+2000\n",
    "        elif x == '순대':\n",
    "            total=total+2500\n",
    "        elif x == '오뎅':\n",
    "            total=total+500\n",
    "        elif x == '꼬치':\n",
    "            total=total+1000\n",
    "        elif x == '주먹밥':\n",
    "            total=total+4000\n",
    "        elif x == '음료수':\n",
    "            total=total+1000\n",
    "        else:\n",
    "            print(\"주문하세요\")\n",
    "    print(total,\"원입니다.\")\n",
    "Total(order2)"
   ]
  },
  {
   "cell_type": "code",
   "execution_count": 37,
   "metadata": {},
   "outputs": [
    {
     "name": "stdout",
     "output_type": "stream",
     "text": [
      "3000 원입니다.\n"
     ]
    }
   ],
   "source": [
    "menuList={'떡볶이':3000,'튀김':2000,'순대':2500,'오뎅':500,'꼬치':1000,'주먹밥':4000,'음료수':1000}\n",
    "order3=['음료수','튀김']\n",
    "def Total(v):\n",
    "    total=0\n",
    "    for x in v:\n",
    "        total=total+menuList[x]\n",
    "    print(total,\"원입니다.\")\n",
    "Total(order3)"
   ]
  }
 ],
 "metadata": {
  "kernelspec": {
   "display_name": "Python 3",
   "language": "python",
   "name": "python3"
  },
  "language_info": {
   "codemirror_mode": {
    "name": "ipython",
    "version": 3
   },
   "file_extension": ".py",
   "mimetype": "text/x-python",
   "name": "python",
   "nbconvert_exporter": "python",
   "pygments_lexer": "ipython3",
   "version": "3.7.1"
  }
 },
 "nbformat": 4,
 "nbformat_minor": 2
}
