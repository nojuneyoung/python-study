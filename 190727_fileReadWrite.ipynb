{
 "cells": [
  {
   "cell_type": "code",
   "execution_count": 2,
   "metadata": {},
   "outputs": [
    {
     "name": "stdout",
     "output_type": "stream",
     "text": [
      " C 드라이브의 볼륨에는 이름이 없습니다.\n",
      " 볼륨 일련 번호: 36EA-0641\n",
      "\n",
      " C:\\0.SW\\2.python 디렉터리\n",
      "\n",
      "2019-07-27  오후 08:41    <DIR>          .\n",
      "2019-07-27  오후 08:41    <DIR>          ..\n",
      "2019-07-27  오후 08:41    <DIR>          .ipynb_checkpoints\n",
      "2019-03-23  오후 09:33             2,391 190323_challenge.ipynb\n",
      "2019-04-27  오후 09:56             1,706 190427_pythonStudy.ipynb\n",
      "2019-05-25  오후 08:38             5,358 190511_basic.ipynb\n",
      "2019-06-01  오후 10:00             3,573 190525_application.ipynb\n",
      "2019-06-08  오후 09:50             2,275 190608_application2.ipynb\n",
      "2019-06-15  오후 10:05             1,365 190615_application3.ipynb\n",
      "2019-06-22  오후 10:06             6,196 190622_function.ipynb\n",
      "2019-07-06  오후 10:00             4,296 190706_condition.ipynb\n",
      "2019-07-21  오전 09:13             4,864 190713_mission.ipynb\n",
      "2019-07-21  오전 10:29             4,290 190720_mission.ipynb\n",
      "2019-07-27  오후 08:36             1,894 190725_program.ipynb\n",
      "2019-07-27  오후 08:41               555 190727_fileReadWrite.ipynb\n",
      "              12개 파일              38,763 바이트\n",
      "               3개 디렉터리  69,545,091,072 바이트 남음\n"
     ]
    }
   ],
   "source": [
    "!dir\n"
   ]
  },
  {
   "cell_type": "markdown",
   "metadata": {},
   "source": [
    "이미 존재하는 파일을 읽는 프로그램\n"
   ]
  },
  {
   "cell_type": "code",
   "execution_count": 41,
   "metadata": {},
   "outputs": [],
   "source": [
    "# data.txt 라는 파일을 읽는 함수 : open('flie명',\"r\")\n",
    "file=open('data.txt', 'rt', encoding='UTF-8')"
   ]
  },
  {
   "cell_type": "code",
   "execution_count": null,
   "metadata": {},
   "outputs": [],
   "source": []
  },
  {
   "cell_type": "code",
   "execution_count": 43,
   "metadata": {},
   "outputs": [
    {
     "name": "stdout",
     "output_type": "stream",
     "text": [
      "\n"
     ]
    }
   ],
   "source": [
    "print(file.read())\n",
    "file.close()"
   ]
  },
  {
   "cell_type": "code",
   "execution_count": 56,
   "metadata": {},
   "outputs": [],
   "source": [
    "def userReadFile(v):\n",
    "    file=open(v,\"r\",encoding='UTF-8')\n",
    "    print(file.read())\n",
    "    file.close()\n"
   ]
  },
  {
   "cell_type": "code",
   "execution_count": 57,
   "metadata": {},
   "outputs": [
    {
     "name": "stdout",
     "output_type": "stream",
     "text": [
      "﻿역사인물, 이순신, 김유신, 세종대왕\n",
      "MC, 신동엽, 이영자\n",
      "\n"
     ]
    }
   ],
   "source": [
    "userReadFile('data.txt')"
   ]
  },
  {
   "cell_type": "code",
   "execution_count": 58,
   "metadata": {},
   "outputs": [],
   "source": [
    "data=\"한기가,오늘은,안오려했는데,어찌나 당황스럽던지?\""
   ]
  },
  {
   "cell_type": "code",
   "execution_count": 62,
   "metadata": {},
   "outputs": [],
   "source": [
    "#일반 파이썬 변수값으로 data5.txt라는 파일을 생성 및 출력\n",
    "f = open('data5.txt',\"w\",encoding=\"UTF-8\")\n",
    "f.write(data)\n",
    "f.close()"
   ]
  },
  {
   "cell_type": "code",
   "execution_count": 61,
   "metadata": {},
   "outputs": [],
   "source": [
    "#? 파일 쓰기 로직을 userFileWriter라는 함수로 개발하기\n",
    "# 호출까지 test 하기"
   ]
  },
  {
   "cell_type": "code",
   "execution_count": 85,
   "metadata": {},
   "outputs": [
    {
     "data": {
      "text/plain": [
       "'호날두,안나옴,슬프다,대체 왜안나온거'"
      ]
     },
     "execution_count": 85,
     "metadata": {},
     "output_type": "execute_result"
    }
   ],
   "source": [
    "data=\"호날두,안나옴,슬프다,대체 왜안나온거\"\n",
    "def userFileWriter(wFile):\n",
    "    f=open(wFile,\"w\",encoding=\"UTF-8\")\n",
    "    f.write(data)\n",
    "    f.close()\n",
    "\n",
    "userFileWriter('data4.txt')\n",
    "userReadFile('data4.txt')"
   ]
  },
  {
   "cell_type": "code",
   "execution_count": 86,
   "metadata": {},
   "outputs": [
    {
     "name": "stdout",
     "output_type": "stream",
     "text": [
      "호날두,안나옴,슬프다,대체 왜안나온거\n"
     ]
    }
   ],
   "source": [
    "def userReadFile(v):\n",
    "    file=open(v,\"r\",encoding='UTF-8')\n",
    "    file.close()\n",
    "    return data\n",
    "d=userReadFile('data4.txt')\n",
    "print(d)"
   ]
  },
  {
   "cell_type": "code",
   "execution_count": 87,
   "metadata": {},
   "outputs": [
    {
     "name": "stdout",
     "output_type": "stream",
     "text": [
      "호날두\n",
      "안나옴\n",
      "슬프다\n",
      "대체 왜안나온거\n"
     ]
    }
   ],
   "source": [
    "def splito(v):\n",
    "    for x in v.split(\",\"):\n",
    "        print(x)\n",
    "splito(d)"
   ]
  },
  {
   "cell_type": "code",
   "execution_count": null,
   "metadata": {},
   "outputs": [],
   "source": []
  },
  {
   "cell_type": "code",
   "execution_count": null,
   "metadata": {},
   "outputs": [],
   "source": []
  }
 ],
 "metadata": {
  "kernelspec": {
   "display_name": "Python 3",
   "language": "python",
   "name": "python3"
  },
  "language_info": {
   "codemirror_mode": {
    "name": "ipython",
    "version": 3
   },
   "file_extension": ".py",
   "mimetype": "text/x-python",
   "name": "python",
   "nbconvert_exporter": "python",
   "pygments_lexer": "ipython3",
   "version": "3.7.1"
  }
 },
 "nbformat": 4,
 "nbformat_minor": 2
}
