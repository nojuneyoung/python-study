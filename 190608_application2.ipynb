{
 "cells": [
  {
   "cell_type": "code",
   "execution_count": 3,
   "metadata": {},
   "outputs": [
    {
     "name": "stdout",
     "output_type": "stream",
     "text": [
      "B\n"
     ]
    }
   ],
   "source": [
    "a=330\n",
    "b=350\n",
    "\n",
    "if a > b:\n",
    "    print(\"A\")\n",
    "else:\n",
    "    if a == b:\n",
    "        print(\"=\")\n",
    "    else:\n",
    "        print(\"B\")"
   ]
  },
  {
   "cell_type": "code",
   "execution_count": 4,
   "metadata": {},
   "outputs": [],
   "source": [
    "n1=\"해피맨\"\n",
    "n2=\"해피걸\""
   ]
  },
  {
   "cell_type": "code",
   "execution_count": 8,
   "metadata": {},
   "outputs": [
    {
     "name": "stdout",
     "output_type": "stream",
     "text": [
      "diffrent\n",
      "diffrent\n"
     ]
    }
   ],
   "source": [
    "if n1==n2:\n",
    "    print(\"same\")\n",
    "else:\n",
    "    print(\"diffrent\")\n",
    "    \n",
    "    \n",
    "\n",
    "print(\"same\") if n1==n2 else print(\"diffrent\")"
   ]
  },
  {
   "cell_type": "code",
   "execution_count": 21,
   "metadata": {},
   "outputs": [
    {
     "name": "stdout",
     "output_type": "stream",
     "text": [
      "15\n"
     ]
    }
   ],
   "source": [
    "v=[1,2,3,4,5]\n",
    "no=0\n",
    "for i in v:\n",
    "    no=no+i\n",
    "print(no)"
   ]
  },
  {
   "cell_type": "code",
   "execution_count": 31,
   "metadata": {},
   "outputs": [
    {
     "name": "stdout",
     "output_type": "stream",
     "text": [
      "a      b      c      \n"
     ]
    }
   ],
   "source": [
    "data=\"abc\"\n",
    "data2=''\n",
    "for v in data:\n",
    "    data2=data2+v+'      '\n",
    "    \n",
    "    \n",
    "print(data2)"
   ]
  },
  {
   "cell_type": "code",
   "execution_count": null,
   "metadata": {},
   "outputs": [],
   "source": []
  }
 ],
 "metadata": {
  "kernelspec": {
   "display_name": "Python 3",
   "language": "python",
   "name": "python3"
  },
  "language_info": {
   "codemirror_mode": {
    "name": "ipython",
    "version": 3
   },
   "file_extension": ".py",
   "mimetype": "text/x-python",
   "name": "python",
   "nbconvert_exporter": "python",
   "pygments_lexer": "ipython3",
   "version": "3.7.1"
  }
 },
 "nbformat": 4,
 "nbformat_minor": 2
}
